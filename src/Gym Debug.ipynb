{
 "cells": [
  {
   "cell_type": "code",
   "execution_count": 1,
   "metadata": {},
   "outputs": [
    {
     "name": "stderr",
     "output_type": "stream",
     "text": [
      "[2017-11-29 02:44:41,065] Making new env: Pong2p-v0\n"
     ]
    },
    {
     "data": {
      "text/plain": [
       "array([[[  0,   0,   0],\n",
       "        [  0,   0,   0],\n",
       "        [  0,   0,   0],\n",
       "        ..., \n",
       "        [144,  72,  17],\n",
       "        [144,  72,  17],\n",
       "        [144,  72,  17]],\n",
       "\n",
       "       [[144,  72,  17],\n",
       "        [144,  72,  17],\n",
       "        [144,  72,  17],\n",
       "        ..., \n",
       "        [144,  72,  17],\n",
       "        [144,  72,  17],\n",
       "        [144,  72,  17]],\n",
       "\n",
       "       [[144,  72,  17],\n",
       "        [144,  72,  17],\n",
       "        [144,  72,  17],\n",
       "        ..., \n",
       "        [144,  72,  17],\n",
       "        [144,  72,  17],\n",
       "        [144,  72,  17]],\n",
       "\n",
       "       ..., \n",
       "       [[236, 236, 236],\n",
       "        [236, 236, 236],\n",
       "        [236, 236, 236],\n",
       "        ..., \n",
       "        [236, 236, 236],\n",
       "        [236, 236, 236],\n",
       "        [236, 236, 236]],\n",
       "\n",
       "       [[236, 236, 236],\n",
       "        [236, 236, 236],\n",
       "        [236, 236, 236],\n",
       "        ..., \n",
       "        [236, 236, 236],\n",
       "        [236, 236, 236],\n",
       "        [236, 236, 236]],\n",
       "\n",
       "       [[236, 236, 236],\n",
       "        [236, 236, 236],\n",
       "        [236, 236, 236],\n",
       "        ..., \n",
       "        [236, 236, 236],\n",
       "        [236, 236, 236],\n",
       "        [236, 236, 236]]], dtype=uint8)"
      ]
     },
     "execution_count": 1,
     "metadata": {},
     "output_type": "execute_result"
    }
   ],
   "source": [
    "import gym\n",
    "env = gym.make(\"Pong2p-v0\")\n",
    "env.reset()\n"
   ]
  },
  {
   "cell_type": "code",
   "execution_count": 2,
   "metadata": {},
   "outputs": [],
   "source": [
    "from PIL import Image\n",
    "from io import BytesIO\n",
    "import IPython.display\n",
    "\n",
    "def display_img(data):\n",
    "    p_img = Image.fromarray(data, 'RGB')\n",
    "    with BytesIO() as s:\n",
    "        p_img.save(s, \"png\")\n",
    "        IPython.display.display(IPython.display.Image(data=s.getvalue()))"
   ]
  },
  {
   "cell_type": "code",
   "execution_count": 70,
   "metadata": {},
   "outputs": [
    {
     "data": {
      "image/png": "[encoded data removed]",
      "text/plain": [
       "<IPython.core.display.Image object>"
      ]
     },
     "metadata": {},
     "output_type": "display_data"
    }
   ],
   "source": [
    "for i in range(1):\n",
    "    data, r, w, i = env.step(1)\n",
    "display_img(data)\n"
   ]
  },
  {
   "cell_type": "code",
   "execution_count": 79,
   "metadata": {},
   "outputs": [
    {
     "name": "stdout",
     "output_type": "stream",
     "text": [
      "(210, 160, 3)\n"
     ]
    },
    {
     "data": {
      "image/png": "[encoded data removed]",
      "text/plain": [
       "<IPython.core.display.Image object>"
      ]
     },
     "metadata": {},
     "output_type": "display_data"
    },
    {
     "name": "stdout",
     "output_type": "stream",
     "text": [
      "236\n",
      "144\n"
     ]
    }
   ],
   "source": [
    "# ball detection alg\n",
    "print(data.shape)\n",
    "snip = data[60:190, 20:140]\n",
    "display_img(snip)\n",
    "print(snip.max())\n",
    "print(data[74, 43].max())"
   ]
  }
 ],
 "metadata": {
  "kernelspec": {
   "display_name": "Python 3",
   "language": "python",
   "name": "python3"
  },
  "language_info": {
   "codemirror_mode": {
    "name": "ipython",
    "version": 3
   },
   "file_extension": ".py",
   "mimetype": "text/x-python",
   "name": "python",
   "nbconvert_exporter": "python",
   "pygments_lexer": "ipython3",
   "version": "3.5.3"
  }
 },
 "nbformat": 4,
 "nbformat_minor": 2
}
